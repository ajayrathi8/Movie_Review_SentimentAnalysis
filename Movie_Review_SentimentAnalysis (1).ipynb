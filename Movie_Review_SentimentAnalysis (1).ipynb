{
 "cells": [
  {
   "cell_type": "code",
   "execution_count": 1,
   "id": "9472a96e",
   "metadata": {},
   "outputs": [],
   "source": [
    "# Installing the Requirements\n",
    "\n",
    "#!pip install pandas\n",
    "#!pip install numpy\n",
    "#!pip install spacy\n",
    "#!pip install -U scikit-learn\n",
    "#!pip install  nltk\n",
    "#import nltk\n",
    "#nltk.download()"
   ]
  },
  {
   "cell_type": "code",
   "execution_count": 8,
   "id": "36449f4e",
   "metadata": {},
   "outputs": [],
   "source": [
    "import numpy as np \n",
    "import pandas as pd \n",
    "import re \n",
    "import pickle\n",
    "from nltk.corpus import stopwords\n",
    "from nltk.tokenize import word_tokenize\n",
    "from nltk.stem import SnowballStemmer\n",
    "from sklearn.feature_extraction.text import CountVectorizer\n",
    "from sklearn.model_selection import train_test_split\n",
    "from sklearn.feature_extraction.text import TfidfVectorizer\n",
    "from sklearn.naive_bayes import GaussianNB,MultinomialNB,BernoulliNB\n",
    "from sklearn.svm import LinearSVC\n",
    "from sklearn.linear_model import LogisticRegression\n",
    "from sklearn.ensemble import RandomForestClassifier\n",
    "from sklearn.metrics import accuracy_score,confusion_matrix,classification_report\n"
   ]
  },
  {
   "cell_type": "code",
   "execution_count": 9,
   "id": "e46f1594",
   "metadata": {},
   "outputs": [
    {
     "data": {
      "text/plain": [
       "'/home/ajay/Desktop/Movie_Review_Pragya'"
      ]
     },
     "execution_count": 9,
     "metadata": {},
     "output_type": "execute_result"
    }
   ],
   "source": [
    "import os\n",
    "os.getcwd()"
   ]
  },
  {
   "cell_type": "code",
   "execution_count": 10,
   "id": "7f4de73a",
   "metadata": {},
   "outputs": [],
   "source": [
    "os.chdir(\"/home/ajay/Desktop/Movie_Review_Pragya\")\n",
    "import spacy"
   ]
  },
  {
   "cell_type": "code",
   "execution_count": 11,
   "id": "f576c414",
   "metadata": {},
   "outputs": [
    {
     "name": "stdout",
     "output_type": "stream",
     "text": [
      "Dataset shape : (50000, 2)\n",
      "\n",
      "Dataset head : \n",
      "                                              review sentiment\n",
      "0  One of the other reviewers has mentioned that ...  positive\n",
      "1  A wonderful little production. <br /><br />The...  positive\n",
      "2  I thought this was a wonderful way to spend ti...  positive\n",
      "3  Basically there's a family where a little boy ...  negative\n",
      "4  Petter Mattei's \"Love in the Time of Money\" is...  positive\n",
      "\n"
     ]
    }
   ],
   "source": [
    "## 1 | Data Preprocessing ##\n",
    "\"\"\"Prepare the dataset before training\"\"\"\n",
    "\n",
    "# Load dataset\n",
    "dataset = pd.read_csv('IMDB.csv')\n",
    "print(f\"Dataset shape : {dataset.shape}\\n\")\n",
    "print(f\"Dataset head : \\n{dataset.head()}\\n\")\n"
   ]
  },
  {
   "cell_type": "code",
   "execution_count": 12,
   "id": "1b56d613",
   "metadata": {},
   "outputs": [
    {
     "name": "stdout",
     "output_type": "stream",
     "text": [
      "Dataset output counts:\n",
      "sentiment\n",
      "positive    25000\n",
      "negative    25000\n",
      "Name: count, dtype: int64\n",
      "\n"
     ]
    }
   ],
   "source": [
    "# 1.2 Output counts\n",
    "print(f\"Dataset output counts:\\n{dataset.sentiment.value_counts()}\\n\")\n"
   ]
  },
  {
   "cell_type": "code",
   "execution_count": 13,
   "id": "de699a23",
   "metadata": {},
   "outputs": [
    {
     "name": "stdout",
     "output_type": "stream",
     "text": [
      "Dataset head after encoding :\n",
      "                                              review  sentiment\n",
      "0  One of the other reviewers has mentioned that ...          1\n",
      "1  A wonderful little production. <br /><br />The...          1\n",
      "2  I thought this was a wonderful way to spend ti...          1\n",
      "3  Basically there's a family where a little boy ...          0\n",
      "4  Petter Mattei's \"Love in the Time of Money\" is...          1\n",
      "5  Probably my all-time favorite movie, a story o...          1\n",
      "6  I sure would like to see a resurrection of a u...          1\n",
      "7  This show was an amazing, fresh & innovative i...          0\n",
      "8  Encouraged by the positive comments about this...          0\n",
      "9  If you like original gut wrenching laughter yo...          1\n",
      "\n"
     ]
    }
   ],
   "source": [
    "# 1.3 Encode output column into binary\n",
    "dataset.sentiment.replace('positive', 1, inplace=True)\n",
    "dataset.sentiment.replace('negative', 0, inplace=True)\n",
    "print(f\"Dataset head after encoding :\\n{dataset.head(10)}\\n\")\n"
   ]
  },
  {
   "cell_type": "code",
   "execution_count": 14,
   "id": "36d8cc64",
   "metadata": {},
   "outputs": [
    {
     "data": {
      "text/plain": [
       "Text(0, 0.5, 'Count')"
      ]
     },
     "execution_count": 14,
     "metadata": {},
     "output_type": "execute_result"
    },
    {
     "data": {
      "image/png": "[encoded data removed]",
      "text/plain": [
       "<Figure size 432x288 with 1 Axes>"
      ]
     },
     "metadata": {
      "needs_background": "light"
     },
     "output_type": "display_data"
    }
   ],
   "source": [
    "\n",
    "import matplotlib.pyplot as plt\n",
    "%matplotlib inline\n",
    "import warnings\n",
    "warnings.filterwarnings(\"ignore\")\n",
    "\n",
    "dataset['sentiment'].value_counts().sort_index().plot(kind='bar')\n",
    "plt.title('Distribution of Rating')\n",
    "plt.grid()\n",
    "plt.xlabel('Rating')\n",
    "plt.ylabel('Count')\n",
    "\n"
   ]
  },
  {
   "cell_type": "code",
   "execution_count": 15,
   "id": "f811522d",
   "metadata": {},
   "outputs": [
    {
     "data": {
      "text/plain": [
       "'Clean dataset reviews as following:\\n1. Remove HTML tags\\n2. Remove special characters\\n3. Convert everything to lowercase\\n4. Remove stopwords\\n5. Stemming\\n'"
      ]
     },
     "execution_count": 15,
     "metadata": {},
     "output_type": "execute_result"
    }
   ],
   "source": [
    "## 2 | Data cleaning ##\n",
    "\"\"\"Clean dataset reviews as following:\n",
    "1. Remove HTML tags\n",
    "2. Remove special characters\n",
    "3. Convert everything to lowercase\n",
    "4. Remove stopwords\n",
    "5. Stemming\n",
    "\"\"\""
   ]
  },
  {
   "cell_type": "code",
   "execution_count": 16,
   "id": "94851d30",
   "metadata": {},
   "outputs": [
    {
     "name": "stdout",
     "output_type": "stream",
     "text": [
      "Review sample after removing HTML tags : \n",
      "\n",
      "One of the other reviewers has mentioned that after watching just 1 Oz episode you'll be hooked. They are right, as this is exactly what happened with me.The first thing that struck me about Oz was its brutality and unflinching scenes of violence, which set in right from the word GO. Trust me, this is not a show for the faint hearted or timid. This show pulls no punches with regards to drugs, sex or violence. Its is hardcore, in the classic use of the word.It is called OZ as that is the nickname given to the Oswald Maximum Security State Penitentary. It focuses mainly on Emerald City, an experimental section of the prison where all the cells have glass fronts and face inwards, so privacy is not high on the agenda. Em City is home to many..Aryans, Muslims, gangstas, Latinos, Christians, Italians, Irish and more....so scuffles, death stares, dodgy dealings and shady agreements are never far away.I would say the main appeal of the show is due to the fact that it goes where other shows wouldn't dare. Forget pretty pictures painted for mainstream audiences, forget charm, forget romance...OZ doesn't mess around. The first episode I ever saw struck me as so nasty it was surreal, I couldn't say I was ready for it, but as I watched more, I developed a taste for Oz, and got accustomed to the high levels of graphic violence. Not just violence, but injustice (crooked guards who'll be sold out for a nickel, inmates who'll kill on order and get away with it, well mannered, middle class inmates being turned into prison bitches due to their lack of street skills or prison experience) Watching Oz, you may become comfortable with what is uncomfortable viewing....thats if you can get in touch with your darker side.\n",
      "\n"
     ]
    }
   ],
   "source": [
    "#1 Remove HTML tags\n",
    "def clean(text):\n",
    "    cleaned = re.compile(r'<.*?>')\n",
    "    return re.sub(cleaned,'',text)\n",
    "\n",
    "dataset.review = dataset.review.apply(clean)\n",
    "print(f\"Review sample after removing HTML tags : \\n\\n{dataset.review[0]}\\n\")\n"
   ]
  },
  {
   "cell_type": "code",
   "execution_count": 17,
   "id": "a0e66ff7",
   "metadata": {},
   "outputs": [
    {
     "name": "stdout",
     "output_type": "stream",
     "text": [
      "Review sample after removing special characters : \n",
      "\n",
      "One of the other reviewers has mentioned that after watching just 1 Oz episode you ll be hooked  They are right  as this is exactly what happened with me The first thing that struck me about Oz was its brutality and unflinching scenes of violence  which set in right from the word GO  Trust me  this is not a show for the faint hearted or timid  This show pulls no punches with regards to drugs  sex or violence  Its is hardcore  in the classic use of the word It is called OZ as that is the nickname given to the Oswald Maximum Security State Penitentary  It focuses mainly on Emerald City  an experimental section of the prison where all the cells have glass fronts and face inwards  so privacy is not high on the agenda  Em City is home to many  Aryans  Muslims  gangstas  Latinos  Christians  Italians  Irish and more    so scuffles  death stares  dodgy dealings and shady agreements are never far away I would say the main appeal of the show is due to the fact that it goes where other shows wouldn t dare  Forget pretty pictures painted for mainstream audiences  forget charm  forget romance   OZ doesn t mess around  The first episode I ever saw struck me as so nasty it was surreal  I couldn t say I was ready for it  but as I watched more  I developed a taste for Oz  and got accustomed to the high levels of graphic violence  Not just violence  but injustice  crooked guards who ll be sold out for a nickel  inmates who ll kill on order and get away with it  well mannered  middle class inmates being turned into prison bitches due to their lack of street skills or prison experience  Watching Oz  you may become comfortable with what is uncomfortable viewing    thats if you can get in touch with your darker side \n",
      "\n"
     ]
    }
   ],
   "source": [
    "# 2.2 Remove special characters\n",
    "def is_special(text):\n",
    "    rem = ''\n",
    "    for i in text:\n",
    "        if i.isalnum():\n",
    "            rem = rem + i\n",
    "        else:\n",
    "            rem = rem + ' '\n",
    "    return rem\n",
    "\n",
    "dataset.review = dataset.review.apply(is_special)\n",
    "print(f\"Review sample after removing special characters : \\n\\n{dataset.review[0]}\\n\")\n"
   ]
  },
  {
   "cell_type": "code",
   "execution_count": 18,
   "id": "95f1bd58",
   "metadata": {},
   "outputs": [
    {
     "name": "stdout",
     "output_type": "stream",
     "text": [
      "Review sample after converting everything to lowercase :\n",
      " \n",
      "one of the other reviewers has mentioned that after watching just 1 oz episode you ll be hooked  they are right  as this is exactly what happened with me the first thing that struck me about oz was its brutality and unflinching scenes of violence  which set in right from the word go  trust me  this is not a show for the faint hearted or timid  this show pulls no punches with regards to drugs  sex or violence  its is hardcore  in the classic use of the word it is called oz as that is the nickname given to the oswald maximum security state penitentary  it focuses mainly on emerald city  an experimental section of the prison where all the cells have glass fronts and face inwards  so privacy is not high on the agenda  em city is home to many  aryans  muslims  gangstas  latinos  christians  italians  irish and more    so scuffles  death stares  dodgy dealings and shady agreements are never far away i would say the main appeal of the show is due to the fact that it goes where other shows wouldn t dare  forget pretty pictures painted for mainstream audiences  forget charm  forget romance   oz doesn t mess around  the first episode i ever saw struck me as so nasty it was surreal  i couldn t say i was ready for it  but as i watched more  i developed a taste for oz  and got accustomed to the high levels of graphic violence  not just violence  but injustice  crooked guards who ll be sold out for a nickel  inmates who ll kill on order and get away with it  well mannered  middle class inmates being turned into prison bitches due to their lack of street skills or prison experience  watching oz  you may become comfortable with what is uncomfortable viewing    thats if you can get in touch with your darker side \n",
      "\n"
     ]
    }
   ],
   "source": [
    "# 2.3 Convert everything to lowercase\n",
    "def to_lower(text):\n",
    "    return text.lower()\n",
    "\n",
    "dataset.review = dataset.review.apply(to_lower)\n",
    "print(f\"Review sample after converting everything to lowercase :\\n \\n{dataset.review[0]}\\n\")\n"
   ]
  },
  {
   "cell_type": "code",
   "execution_count": 19,
   "id": "6df2963d",
   "metadata": {},
   "outputs": [
    {
     "name": "stdout",
     "output_type": "stream",
     "text": [
      "Review sample after removing stopwords : \n",
      "\n",
      "['one', 'reviewers', 'mentioned', 'watching', '1', 'oz', 'episode', 'hooked', 'right', 'exactly', 'happened', 'first', 'thing', 'struck', 'oz', 'brutality', 'unflinching', 'scenes', 'violence', 'set', 'right', 'word', 'go', 'trust', 'show', 'faint', 'hearted', 'timid', 'show', 'pulls', 'punches', 'regards', 'drugs', 'sex', 'violence', 'hardcore', 'classic', 'use', 'word', 'called', 'oz', 'nickname', 'given', 'oswald', 'maximum', 'security', 'state', 'penitentary', 'focuses', 'mainly', 'emerald', 'city', 'experimental', 'section', 'prison', 'cells', 'glass', 'fronts', 'face', 'inwards', 'privacy', 'high', 'agenda', 'em', 'city', 'home', 'many', 'aryans', 'muslims', 'gangstas', 'latinos', 'christians', 'italians', 'irish', 'scuffles', 'death', 'stares', 'dodgy', 'dealings', 'shady', 'agreements', 'never', 'far', 'away', 'would', 'say', 'main', 'appeal', 'show', 'due', 'fact', 'goes', 'shows', 'dare', 'forget', 'pretty', 'pictures', 'painted', 'mainstream', 'audiences', 'forget', 'charm', 'forget', 'romance', 'oz', 'mess', 'around', 'first', 'episode', 'ever', 'saw', 'struck', 'nasty', 'surreal', 'say', 'ready', 'watched', 'developed', 'taste', 'oz', 'got', 'accustomed', 'high', 'levels', 'graphic', 'violence', 'violence', 'injustice', 'crooked', 'guards', 'sold', 'nickel', 'inmates', 'kill', 'order', 'get', 'away', 'well', 'mannered', 'middle', 'class', 'inmates', 'turned', 'prison', 'bitches', 'due', 'lack', 'street', 'skills', 'prison', 'experience', 'watching', 'oz', 'may', 'become', 'comfortable', 'uncomfortable', 'viewing', 'thats', 'get', 'touch', 'darker', 'side']\n",
      "\n"
     ]
    }
   ],
   "source": [
    "#2.4 Remove stopwords\n",
    "def rem_stopwords(text):\n",
    "    stop_words = set(stopwords.words('english'))\n",
    "    words = word_tokenize(text)\n",
    "    return [w for w in words if w not in stop_words]\n",
    "\n",
    "dataset.review = dataset.review.apply(rem_stopwords)\n",
    "print(f\"Review sample after removing stopwords : \\n\\n{dataset.review[0]}\\n\")\n"
   ]
  },
  {
   "cell_type": "code",
   "execution_count": 20,
   "id": "eb542842",
   "metadata": {},
   "outputs": [
    {
     "name": "stdout",
     "output_type": "stream",
     "text": [
      "Review sample after stemming the words : \n",
      "\n",
      "one review mention watch 1 oz episod hook right exact happen first thing struck oz brutal unflinch scene violenc set right word go trust show faint heart timid show pull punch regard drug sex violenc hardcor classic use word call oz nicknam given oswald maximum secur state penitentari focus main emerald citi experiment section prison cell glass front face inward privaci high agenda em citi home mani aryan muslim gangsta latino christian italian irish scuffl death stare dodgi deal shadi agreement never far away would say main appeal show due fact goe show dare forget pretti pictur paint mainstream audienc forget charm forget romanc oz mess around first episod ever saw struck nasti surreal say readi watch develop tast oz got accustom high level graphic violenc violenc injustic crook guard sold nickel inmat kill order get away well manner middl class inmat turn prison bitch due lack street skill prison experi watch oz may becom comfort uncomfort view that get touch darker side\n",
      "\n"
     ]
    }
   ],
   "source": [
    "# 2.5 Stem the words\n",
    "def stem_txt(text):\n",
    "    ss = SnowballStemmer('english')\n",
    "    return \" \".join([ss.stem(w) for w in text])\n",
    "\n",
    "dataset.review = dataset.review.apply(stem_txt)\n",
    "print(f\"Review sample after stemming the words : \\n\\n{dataset.review[0]}\\n\")\n"
   ]
  },
  {
   "cell_type": "code",
   "execution_count": 21,
   "id": "ef8b2a7c",
   "metadata": {},
   "outputs": [
    {
     "name": "stdout",
     "output_type": "stream",
     "text": [
      "=== Bag of words ===\n",
      "\n",
      "BOW X shape : (50000, 72648)\n",
      "BOW y shape : (50000,)\n",
      "\n"
     ]
    }
   ],
   "source": [
    "## 3 | Model Creation ##\n",
    "\"\"\"Create model to fit it to the data\"\"\"\n",
    "\n",
    "# 3.1 Creating Bag Of Words (BOW)\n",
    "X = np.array(dataset.iloc[:,0].values)\n",
    "y = np.array(dataset.sentiment.values)\n",
    "\n",
    "tfidf = TfidfVectorizer()\n",
    "X = tfidf.fit_transform(X)\n",
    "print(f\"=== Bag of words ===\\n\")\n",
    "print(f\"BOW X shape : {X.shape}\")\n",
    "print(f\"BOW y shape : {y.shape}\\n\")\n"
   ]
  },
  {
   "cell_type": "code",
   "execution_count": 22,
   "id": "b4a114f2",
   "metadata": {},
   "outputs": [
    {
     "name": "stdout",
     "output_type": "stream",
     "text": [
      "Train shapes : X = (35000, 72648), y = (35000,)\n",
      "Test shapes  : X = (15000, 72648),  y = (15000,)\n",
      "\n"
     ]
    }
   ],
   "source": [
    "# 3.2 Train test split\n",
    "X_train, X_test, y_train, y_test = train_test_split(X, y, test_size=0.3, random_state=9)\n",
    "print(f\"Train shapes : X = {X_train.shape}, y = {y_train.shape}\")\n",
    "print(f\"Test shapes  : X = {X_test.shape},  y = {y_test.shape}\\n\")\n"
   ]
  },
  {
   "cell_type": "code",
   "execution_count": 25,
   "id": "eef03a81",
   "metadata": {},
   "outputs": [
    {
     "name": "stdout",
     "output_type": "stream",
     "text": [
      "TF-IDF Vector Model Saved\n"
     ]
    }
   ],
   "source": [
    "pickle.dump(tfidf,open('/home/ajay/Desktop/Movie_Review_Pragya/saved_model/tfidf.pkl','wb'))\n",
    "print('TF-IDF Vector Model Saved')"
   ]
  },
  {
   "cell_type": "code",
   "execution_count": 23,
   "id": "c2f8cc84",
   "metadata": {
    "scrolled": true
   },
   "outputs": [
    {
     "name": "stdout",
     "output_type": "stream",
     "text": [
      "Confusion Matrix:\n",
      "[[6605  920]\n",
      " [ 706 6769]]\n",
      "\n",
      "Classification Report:\n",
      "              precision    recall  f1-score   support\n",
      "\n",
      "           0       0.90      0.88      0.89      7525\n",
      "           1       0.88      0.91      0.89      7475\n",
      "\n",
      "    accuracy                           0.89     15000\n",
      "   macro avg       0.89      0.89      0.89     15000\n",
      "weighted avg       0.89      0.89      0.89     15000\n",
      "\n",
      "Accuracy: 89.16%\n",
      "Logistic Regression trained Model Saved\n"
     ]
    }
   ],
   "source": [
    "#Logistic Regression\n",
    "\n",
    "from sklearn import linear_model\n",
    "\n",
    "LRmodel = linear_model.LogisticRegression()\n",
    "# Train the Model\n",
    "LRmodel.fit(X_train,y_train)   \n",
    "LRpred = LRmodel.predict(X_test)\n",
    "print(f'Confusion Matrix:\\n{confusion_matrix(y_test,LRpred)}')\n",
    "print(f'\\nClassification Report:\\n{classification_report(y_test,LRpred)}')\n",
    "print(f'Accuracy: {accuracy_score(y_test,LRpred)*100}%')\n",
    "pickle.dump(LRmodel, open('/home/ajay/Desktop/Movie_Review_Pragya/saved_model/LinearRegression_model.pkl', 'wb'))\n",
    "print('Logistic Regression trained Model Saved')"
   ]
  },
  {
   "cell_type": "code",
   "execution_count": 36,
   "id": "589f6b9b",
   "metadata": {},
   "outputs": [
    {
     "data": {
      "text/plain": [
       "array([0])"
      ]
     },
     "execution_count": 36,
     "metadata": {},
     "output_type": "execute_result"
    }
   ],
   "source": [
    "LRmodel.predict(tfidf.transform(['American Psycho not good , they were fake']))"
   ]
  },
  {
   "cell_type": "code",
   "execution_count": null,
   "id": "4da4f603",
   "metadata": {},
   "outputs": [],
   "source": []
  }
 ],
 "metadata": {
  "kernelspec": {
   "display_name": "Python 3",
   "language": "python",
   "name": "python3"
  },
  "language_info": {
   "codemirror_mode": {
    "name": "ipython",
    "version": 3
   },
   "file_extension": ".py",
   "mimetype": "text/x-python",
   "name": "python",
   "nbconvert_exporter": "python",
   "pygments_lexer": "ipython3",
   "version": "3.10.12"
  }
 },
 "nbformat": 4,
 "nbformat_minor": 5
}
